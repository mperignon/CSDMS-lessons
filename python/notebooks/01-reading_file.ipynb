{
 "cells": [
  {
   "cell_type": "markdown",
   "metadata": {},
   "source": [
    "# Obtain instantaneous streamgage records from the USGS web services\n",
    "## (and learn about variables and types in the process)"
   ]
  },
  {
   "cell_type": "markdown",
   "metadata": {},
   "source": [
    "### What are web services?\n",
    "A way to automatically access a database through the web\n",
    "\n",
    "If you go to a streamgage record (and I went to this on the old way, clicking my way through the website), the URL has a pattern...\n",
    "\n",
    "http://nwis.waterdata.usgs.gov/co/nwis/uv/?cb_00060=on&format=rdb&site_no=06730200&period=&begin_date=2013-09-08&end_date=2013-09-14\n",
    "\n",
    "http://nwis.waterservices.usgs.gov/nwis/iv/?format=rdb&sites=06730200&startDT=2013-09-08&endDT=2013-09-14&parameterCd=00060\n",
    "\n",
    "http://waterservices.usgs.gov/rest/IV-Test-Tool.html"
   ]
  },
  {
   "cell_type": "code",
   "execution_count": 10,
   "metadata": {
    "collapsed": true
   },
   "outputs": [],
   "source": [
    "url = 'http://nwis.waterservices.usgs.gov/nwis/iv/?format=rdb&sites=06730200&startDT=2013-09-08&endDT=2013-09-14&parameterCd=00060'"
   ]
  },
  {
   "cell_type": "code",
   "execution_count": 11,
   "metadata": {
    "collapsed": false
   },
   "outputs": [
    {
     "data": {
      "text/plain": [
       "'http://nwis.waterservices.usgs.gov/nwis/iv/?format=rdb&sites=06730200&startDT=2013-09-08&endDT=2013-09-14&parameterCd=00060'"
      ]
     },
     "execution_count": 11,
     "metadata": {},
     "output_type": "execute_result"
    }
   ],
   "source": [
    "url"
   ]
  },
  {
   "cell_type": "code",
   "execution_count": null,
   "metadata": {
    "collapsed": true
   },
   "outputs": [],
   "source": []
  }
 ],
 "metadata": {
  "kernelspec": {
   "display_name": "Python 2",
   "language": "python",
   "name": "python2"
  },
  "language_info": {
   "codemirror_mode": {
    "name": "ipython",
    "version": 2
   },
   "file_extension": ".py",
   "mimetype": "text/x-python",
   "name": "python",
   "nbconvert_exporter": "python",
   "pygments_lexer": "ipython2",
   "version": "2.7.11"
  }
 },
 "nbformat": 4,
 "nbformat_minor": 0
}
